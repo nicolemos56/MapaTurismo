{
 "cells": [
  {
   "cell_type": "code",
   "execution_count": null,
   "id": "a7a02501",
   "metadata": {
    "vscode": {
     "languageId": "plaintext"
    }
   },
   "outputs": [],
   "source": [
    "# Carregar dados geográficos e previsões"
   ]
  },
  {
   "cell_type": "code",
   "execution_count": null,
   "id": "5141bc8e",
   "metadata": {
    "vscode": {
     "languageId": "plaintext"
    }
   },
   "outputs": [],
   "source": [
    "# Criar mapa interativo com Folium"
   ]
  },
  {
   "cell_type": "code",
   "execution_count": null,
   "id": "b4080fc8",
   "metadata": {
    "vscode": {
     "languageId": "plaintext"
    }
   },
   "outputs": [],
   "source": [
    "# Exibir mapa dentro do notebook"
   ]
  },
  {
   "cell_type": "code",
   "execution_count": null,
   "id": "0099b095",
   "metadata": {
    "vscode": {
     "languageId": "plaintext"
    }
   },
   "outputs": [],
   "source": [
    "# Adicionar camadas auxiliares"
   ]
  },
  {
   "cell_type": "code",
   "execution_count": null,
   "id": "fa623d3d",
   "metadata": {
    "vscode": {
     "languageId": "plaintext"
    }
   },
   "outputs": [],
   "source": [
    "# Entrega esperada: outputs/mapa_turismo.html"
   ]
  }
 ],
 "metadata": {
  "language_info": {
   "name": "python"
  }
 },
 "nbformat": 4,
 "nbformat_minor": 5
}
