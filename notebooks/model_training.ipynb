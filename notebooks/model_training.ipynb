{
 "cells": [
  {
   "cell_type": "markdown",
   "id": "eb854409",
   "metadata": {},
   "source": [
    "# Modelo Preditivo de Potencial Turístico - Angola\n",
    "\n",
    "Este notebook implementa modelos preditivos para análise do potencial turístico em Angola, incluindo:\n",
    "- Random Forest / XGBoost para classificação de potencial turístico\n",
    "- Regressão espacial (PySAL) para avaliar autocorrelação geográfica\n",
    "- Redes Neurais para previsão temporal de fluxo turístico\n",
    "- Validação cruzada espacial (por províncias)\n",
    "- Análise de importância de variáveis"
   ]
  },
  {
   "cell_type": "code",
   "execution_count": 2,
   "id": "28398084",
   "metadata": {},
   "outputs": [
    {
     "name": "stderr",
     "output_type": "stream",
     "text": [
      "c:\\Users\\slim5\\Documents\\GitHub\\MapaTurismo\\venv\\Lib\\site-packages\\tqdm\\auto.py:21: TqdmWarning: IProgress not found. Please update jupyter and ipywidgets. See https://ipywidgets.readthedocs.io/en/stable/user_install.html\n",
      "  from .autonotebook import tqdm as notebook_tqdm\n"
     ]
    }
   ],
   "source": [
    "# Importação das bibliotecas necessárias\n",
    "import pandas as pd\n",
    "import numpy as np\n",
    "import geopandas as gpd\n",
    "from sklearn.model_selection import train_test_split\n",
    "from sklearn.ensemble import RandomForestClassifier\n",
    "from sklearn.metrics import classification_report, roc_auc_score\n",
    "import xgboost as xgb\n",
    "import pysal.lib as ps\n",
    "import torch\n",
    "import tensorflow as tf\n",
    "import shap\n",
    "import matplotlib.pyplot as plt\n",
    "import seaborn as sns"
   ]
  },
  {
   "cell_type": "code",
   "execution_count": 5,
   "id": "a2836d32",
   "metadata": {},
   "outputs": [
    {
     "name": "stdout",
     "output_type": "stream",
     "text": [
      "Colunas disponíveis no DataFrame:\n",
      "['nome_ponto_turistico_clima', 'provincia_clima', 'lat_clima', 'lon_clima', 'temp_med_anual', 'precipitacao_anual', 'ndvi', 'evi', 'ndwi', 'altitude', 'populacao', 'densidade_pop', 'pib_per_capita', 'idh', 'taxa_urbanizacao', 'emprego_turismo', 'distancia_estrada_principal_km', 'distancia_cidade_km']\n",
      "\n",
      "Primeiras linhas do DataFrame:\n",
      "  nome_ponto_turistico_clima provincia_clima  lat_clima  lon_clima  \\\n",
      "0        Quedas de Calandula         Malanje  -9.075025  16.001131   \n",
      "1           Miradouro da Lua          Luanda  -9.221147  13.090001   \n",
      "2           Museu Kulumbimbi           Zaire  -6.264389  14.245581   \n",
      "3  Reserva Parcial do Namibe          Namibe -15.766760  12.399914   \n",
      "4    Fortaleza de São Miguel          Luanda  -8.808343  13.223445   \n",
      "\n",
      "   temp_med_anual  precipitacao_anual  ndvi   evi  ndwi  altitude  populacao  \\\n",
      "0            28.8               218.9  0.80  0.16  0.02     287.0      95533   \n",
      "1            24.8               304.1  0.77  0.68  0.08    1148.0      52641   \n",
      "2            27.8               343.0  0.20  0.46  0.08     683.0      54008   \n",
      "3            24.3               286.7  0.15  0.60  0.04     362.0     166079   \n",
      "4            28.1               158.6  0.62  0.47  0.16    1192.0     192436   \n",
      "\n",
      "   densidade_pop  pib_per_capita    idh  taxa_urbanizacao  emprego_turismo  \\\n",
      "0          412.4         4015.12  0.543              50.1             14.0   \n",
      "1          422.9         2765.22  0.590              69.3             13.1   \n",
      "2          151.1         1998.99  0.726              41.5             12.5   \n",
      "3          200.8         1815.76  0.624              44.9              7.5   \n",
      "4          250.0         3426.64  0.678              70.6              8.8   \n",
      "\n",
      "   distancia_estrada_principal_km  distancia_cidade_km  \n",
      "0                             2.7                157.6  \n",
      "1                             1.4                 11.0  \n",
      "2                             6.0                 38.5  \n",
      "3                             6.6                106.4  \n",
      "4                             4.3                129.0  \n"
     ]
    }
   ],
   "source": [
    "# Verificar a estrutura dos dados\n",
    "print(\"Colunas disponíveis no DataFrame:\")\n",
    "print(df.columns.tolist())\n",
    "print(\"\\nPrimeiras linhas do DataFrame:\")\n",
    "print(df.head())"
   ]
  },
  {
   "cell_type": "code",
   "execution_count": 6,
   "id": "bba8766e",
   "metadata": {},
   "outputs": [
    {
     "name": "stdout",
     "output_type": "stream",
     "text": [
      "Forma dos dados de treino: (10, 16)\n",
      "Forma dos dados de teste: (5, 16)\n",
      "\n",
      "Distribuição das classes:\n",
      "0    0.533333\n",
      "1    0.466667\n",
      "Name: proportion, dtype: float64\n"
     ]
    }
   ],
   "source": [
    "# Definir variáveis\n",
    "# Features e target para classificação\n",
    "# Assumindo que todas as colunas numéricas são features, exceto identificadores\n",
    "features = df.select_dtypes(include=['float64', 'int64']).columns\n",
    "X = df[features]\n",
    "\n",
    "# Criar uma classificação binária baseada na média dos valores numéricos\n",
    "y = (X.mean(axis=1) > X.mean(axis=1).median()).astype(int)\n",
    "\n",
    "# Split espacial por coordenadas (assumindo que temos latitude e longitude)\n",
    "# Usar mediana das coordenadas para dividir os dados em regiões\n",
    "train_idx = np.random.choice(range(len(X)), size=int(0.7 * len(X)), replace=False)\n",
    "test_idx = np.array([i for i in range(len(X)) if i not in train_idx])\n",
    "\n",
    "X_train = X.iloc[train_idx]\n",
    "X_test = X.iloc[test_idx]\n",
    "y_train = y.iloc[train_idx]\n",
    "y_test = y.iloc[test_idx]\n",
    "\n",
    "print(\"Forma dos dados de treino:\", X_train.shape)\n",
    "print(\"Forma dos dados de teste:\", X_test.shape)\n",
    "print(\"\\nDistribuição das classes:\")\n",
    "print(y.value_counts(normalize=True))"
   ]
  },
  {
   "cell_type": "code",
   "execution_count": 7,
   "id": "49541eb1",
   "metadata": {},
   "outputs": [
    {
     "name": "stdout",
     "output_type": "stream",
     "text": [
      "Modelos treinados com sucesso!\n"
     ]
    }
   ],
   "source": [
    "# Treinar modelos\n",
    "\n",
    "# 1. Random Forest\n",
    "rf_model = RandomForestClassifier(n_estimators=100, random_state=42)\n",
    "rf_model.fit(X_train, y_train)\n",
    "rf_pred = rf_model.predict(X_test)\n",
    "rf_proba = rf_model.predict_proba(X_test)\n",
    "\n",
    "# 2. XGBoost\n",
    "xgb_model = xgb.XGBClassifier(objective='binary:logistic', random_state=42)\n",
    "xgb_model.fit(X_train, y_train)\n",
    "xgb_pred = xgb_model.predict(X_test)\n",
    "xgb_proba = xgb_model.predict_proba(X_test)\n",
    "\n",
    "# 3. Rede Neural (PyTorch)\n",
    "class TourismNN(torch.nn.Module):\n",
    "    def __init__(self, input_size):\n",
    "        super(TourismNN, self).__init__()\n",
    "        self.layer1 = torch.nn.Linear(input_size, 32)\n",
    "        self.layer2 = torch.nn.Linear(32, 16)\n",
    "        self.layer3 = torch.nn.Linear(16, 2)  # 2 classes\n",
    "        \n",
    "    def forward(self, x):\n",
    "        x = torch.relu(self.layer1(x))\n",
    "        x = torch.relu(self.layer2(x))\n",
    "        x = self.layer3(x)\n",
    "        return x\n",
    "\n",
    "# Converter dados para tensores\n",
    "X_train_tensor = torch.FloatTensor(X_train.values)\n",
    "y_train_tensor = torch.LongTensor(y_train.values)\n",
    "X_test_tensor = torch.FloatTensor(X_test.values)\n",
    "y_test_tensor = torch.LongTensor(y_test.values)\n",
    "\n",
    "# Treinar rede neural\n",
    "nn_model = TourismNN(X_train.shape[1])\n",
    "criterion = torch.nn.CrossEntropyLoss()\n",
    "optimizer = torch.optim.Adam(nn_model.parameters())\n",
    "\n",
    "epochs = 100\n",
    "for epoch in range(epochs):\n",
    "    optimizer.zero_grad()\n",
    "    outputs = nn_model(X_train_tensor)\n",
    "    loss = criterion(outputs, y_train_tensor)\n",
    "    loss.backward()\n",
    "    optimizer.step()\n",
    "\n",
    "print(\"Modelos treinados com sucesso!\")"
   ]
  },
  {
   "cell_type": "code",
   "execution_count": 9,
   "id": "b0b79fb3",
   "metadata": {},
   "outputs": [
    {
     "data": {
      "image/png": "[encoded data removed]",
      "text/plain": [
       "<Figure size 1000x600 with 1 Axes>"
      ]
     },
     "metadata": {},
     "output_type": "display_data"
    },
    {
     "name": "stdout",
     "output_type": "stream",
     "text": [
      "\n",
      "Random Forest - Classification Report:\n",
      "              precision    recall  f1-score   support\n",
      "\n",
      "           0       1.00      1.00      1.00         3\n",
      "           1       1.00      1.00      1.00         2\n",
      "\n",
      "    accuracy                           1.00         5\n",
      "   macro avg       1.00      1.00      1.00         5\n",
      "weighted avg       1.00      1.00      1.00         5\n",
      "\n",
      "AUC-ROC Score: 1.0\n",
      "\n",
      "XGBoost - Classification Report:\n",
      "              precision    recall  f1-score   support\n",
      "\n",
      "           0       1.00      1.00      1.00         3\n",
      "           1       1.00      1.00      1.00         2\n",
      "\n",
      "    accuracy                           1.00         5\n",
      "   macro avg       1.00      1.00      1.00         5\n",
      "weighted avg       1.00      1.00      1.00         5\n",
      "\n",
      "AUC-ROC Score: 1.0\n",
      "\n",
      "Neural Network Accuracy: 0.8000\n"
     ]
    }
   ],
   "source": [
    "# Avaliar variáveis mais importantes\n",
    "\n",
    "# 1. Random Forest Feature Importance\n",
    "rf_importance = pd.DataFrame({\n",
    "    'feature': X_train.columns,\n",
    "    'importance': rf_model.feature_importances_\n",
    "}).sort_values('importance', ascending=False)\n",
    "\n",
    "plt.figure(figsize=(10, 6))\n",
    "sns.barplot(data=rf_importance, x='importance', y='feature')\n",
    "plt.title('Feature Importance - Random Forest')\n",
    "plt.tight_layout()\n",
    "plt.show()\n",
    "\n",
    "# Métricas de avaliação\n",
    "print(\"\\nRandom Forest - Classification Report:\")\n",
    "print(classification_report(y_test, rf_pred))\n",
    "print(f\"AUC-ROC Score: {roc_auc_score(y_test, rf_proba[:, 1])}\")\n",
    "\n",
    "print(\"\\nXGBoost - Classification Report:\")\n",
    "print(classification_report(y_test, xgb_pred))\n",
    "print(f\"AUC-ROC Score: {roc_auc_score(y_test, xgb_proba[:, 1])}\")\n",
    "\n",
    "# Neural Network Evaluation\n",
    "with torch.no_grad():\n",
    "    nn_outputs = nn_model(X_test_tensor)\n",
    "    nn_pred = torch.argmax(nn_outputs, dim=1)\n",
    "    nn_accuracy = (nn_pred == y_test_tensor).float().mean()\n",
    "    print(f\"\\nNeural Network Accuracy: {nn_accuracy:.4f}\")"
   ]
  },
  {
   "cell_type": "code",
   "execution_count": 11,
   "id": "08f5d761",
   "metadata": {},
   "outputs": [
    {
     "name": "stdout",
     "output_type": "stream",
     "text": [
      "Modelo salvo com sucesso em '../models/tourism_model.pkl'\n"
     ]
    }
   ],
   "source": [
    "# Criar diretório para salvar o modelo se não existir\n",
    "import os\n",
    "if not os.path.exists('../models'):\n",
    "    os.makedirs('../models')\n",
    "\n",
    "# Salvar modelo XGBoost\n",
    "import pickle\n",
    "with open('../models/tourism_model.pkl', 'wb') as f:\n",
    "    pickle.dump(xgb_model, f)\n",
    "\n",
    "print(\"Modelo salvo com sucesso em '../models/tourism_model.pkl'\")"
   ]
  },
  {
   "cell_type": "code",
   "execution_count": null,
   "id": "3480ddea",
   "metadata": {},
   "outputs": [],
   "source": [
    "# Criar diretório para salvar o modelo se não existir\n",
    "import os\n",
    "if not os.path.exists('../models'):\n",
    "    os.makedirs('../models')\n",
    "\n",
    "# Salvar modelo XGBoost (melhor performance)\n",
    "import joblib\n",
    "joblib.dump(xgb_model, '../models/tourism_model.pkl')\n",
    "\n",
    "print(\"Modelo salvo com sucesso em '../models/tourism_model.pkl'\")"
   ]
  },
  {
   "cell_type": "code",
   "execution_count": null,
   "id": "cf464805",
   "metadata": {},
   "outputs": [],
   "source": []
  },
  {
   "cell_type": "code",
   "execution_count": 1,
   "id": "8b7c51f4",
   "metadata": {},
   "outputs": [],
   "source": [
    "# Entrega esperada: models/tourism_model.pkl"
   ]
  }
 ],
 "metadata": {
  "kernelspec": {
   "display_name": "venv",
   "language": "python",
   "name": "python3"
  },
  "language_info": {
   "codemirror_mode": {
    "name": "ipython",
    "version": 3
   },
   "file_extension": ".py",
   "mimetype": "text/x-python",
   "name": "python",
   "nbconvert_exporter": "python",
   "pygments_lexer": "ipython3",
   "version": "3.13.7"
  }
 },
 "nbformat": 4,
 "nbformat_minor": 5
}
