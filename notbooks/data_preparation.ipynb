{
 "cells": [
  {
   "cell_type": "code",
   "execution_count": null,
   "id": "265022d5",
   "metadata": {
    "vscode": {
     "languageId": "plaintext"
    }
   },
   "outputs": [],
   "source": [
    "# carregar dataset rudementar\n",
    "\n"
   ]
  },
  {
   "cell_type": "code",
   "execution_count": null,
   "id": "86155fe8",
   "metadata": {
    "vscode": {
     "languageId": "plaintext"
    }
   },
   "outputs": [],
   "source": [
    "# Limpeza e normalização\n"
   ]
  },
  {
   "cell_type": "code",
   "execution_count": null,
   "id": "5b056fd8",
   "metadata": {
    "vscode": {
     "languageId": "plaintext"
    }
   },
   "outputs": [],
   "source": [
    "# Gerar variáveis espaciais\n"
   ]
  },
  {
   "cell_type": "code",
   "execution_count": null,
   "id": "c6845c9e",
   "metadata": {
    "vscode": {
     "languageId": "plaintext"
    }
   },
   "outputs": [],
   "source": [
    "# Cruzar camadas (join espacial)\n"
   ]
  },
  {
   "cell_type": "code",
   "execution_count": null,
   "id": "fae13a05",
   "metadata": {
    "vscode": {
     "languageId": "plaintext"
    }
   },
   "outputs": [],
   "source": [
    "# Salvar dataset final\n"
   ]
  },
  {
   "cell_type": "code",
   "execution_count": null,
   "id": "aa26c2a1",
   "metadata": {
    "vscode": {
     "languageId": "plaintext"
    }
   },
   "outputs": [],
   "source": [
    "# Entrega esperada: model_inputs.csv"
   ]
  },
  {
   "cell_type": "code",
   "execution_count": null,
   "id": "955d2495",
   "metadata": {
    "vscode": {
     "languageId": "plaintext"
    }
   },
   "outputs": [],
   "source": []
  }
 ],
 "metadata": {
  "language_info": {
   "name": "python"
  }
 },
 "nbformat": 4,
 "nbformat_minor": 5
}
