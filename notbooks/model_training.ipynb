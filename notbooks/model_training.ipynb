{
 "cells": [
  {
   "cell_type": "code",
   "execution_count": null,
   "id": "33226b9f",
   "metadata": {
    "vscode": {
     "languageId": "plaintext"
    }
   },
   "outputs": [],
   "source": [
    "# Importar dados preparados"
   ]
  },
  {
   "cell_type": "code",
   "execution_count": null,
   "id": "2a1dc757",
   "metadata": {
    "vscode": {
     "languageId": "plaintext"
    }
   },
   "outputs": [],
   "source": [
    "# Definir variáveis "
   ]
  },
  {
   "cell_type": "code",
   "execution_count": null,
   "id": "1b1d82a2",
   "metadata": {
    "vscode": {
     "languageId": "plaintext"
    }
   },
   "outputs": [],
   "source": [
    "# Treinar modelos"
   ]
  },
  {
   "cell_type": "code",
   "execution_count": null,
   "id": "2bf8f093",
   "metadata": {
    "vscode": {
     "languageId": "plaintext"
    }
   },
   "outputs": [],
   "source": [
    "# Avaliar variáveis mais importantes"
   ]
  },
  {
   "cell_type": "code",
   "execution_count": null,
   "id": "cf464805",
   "metadata": {
    "vscode": {
     "languageId": "plaintext"
    }
   },
   "outputs": [],
   "source": [
    "# Salvar modelo"
   ]
  },
  {
   "cell_type": "code",
   "execution_count": null,
   "id": "8b7c51f4",
   "metadata": {
    "vscode": {
     "languageId": "plaintext"
    }
   },
   "outputs": [],
   "source": [
    "# Entrega esperada: models/tourism_model.pkl"
   ]
  }
 ],
 "metadata": {
  "language_info": {
   "name": "python"
  }
 },
 "nbformat": 4,
 "nbformat_minor": 5
}
